{
 "cells": [
  {
   "cell_type": "code",
   "execution_count": 1,
   "metadata": {},
   "outputs": [
    {
     "ename": "ModuleNotFoundError",
     "evalue": "No module named 'cv2'",
     "output_type": "error",
     "traceback": [
      "\u001b[1;31m---------------------------------------------------------------------------\u001b[0m",
      "\u001b[1;31mModuleNotFoundError\u001b[0m                       Traceback (most recent call last)",
      "\u001b[1;32m<ipython-input-1-23d94c7e63f2>\u001b[0m in \u001b[0;36m<module>\u001b[1;34m\u001b[0m\n\u001b[0;32m      1\u001b[0m \u001b[0mget_ipython\u001b[0m\u001b[1;33m(\u001b[0m\u001b[1;33m)\u001b[0m\u001b[1;33m.\u001b[0m\u001b[0mrun_line_magic\u001b[0m\u001b[1;33m(\u001b[0m\u001b[1;34m'matplotlib'\u001b[0m\u001b[1;33m,\u001b[0m \u001b[1;34m'inline'\u001b[0m\u001b[1;33m)\u001b[0m\u001b[1;33m\u001b[0m\u001b[1;33m\u001b[0m\u001b[0m\n\u001b[1;32m----> 2\u001b[1;33m \u001b[1;32mimport\u001b[0m \u001b[0mcv2\u001b[0m\u001b[1;33m\u001b[0m\u001b[1;33m\u001b[0m\u001b[0m\n\u001b[0m\u001b[0;32m      3\u001b[0m \u001b[1;32mimport\u001b[0m \u001b[0mnumpy\u001b[0m \u001b[1;32mas\u001b[0m \u001b[0mnp\u001b[0m\u001b[1;33m\u001b[0m\u001b[1;33m\u001b[0m\u001b[0m\n\u001b[0;32m      4\u001b[0m \u001b[1;32mfrom\u001b[0m \u001b[0mmatplotlib\u001b[0m \u001b[1;32mimport\u001b[0m \u001b[0mpyplot\u001b[0m \u001b[1;32mas\u001b[0m \u001b[0mplt\u001b[0m\u001b[1;33m\u001b[0m\u001b[1;33m\u001b[0m\u001b[0m\n",
      "\u001b[1;31mModuleNotFoundError\u001b[0m: No module named 'cv2'"
     ]
    }
   ],
   "source": [
    "%matplotlib inline\n",
    "import cv2\n",
    "import numpy as np\n",
    "from matplotlib import pyplot as plt"
   ]
  },
  {
   "cell_type": "code",
   "execution_count": null,
   "metadata": {},
   "outputs": [],
   "source": [
    "img=cv2.imread(\"_____.jpg\",1)\n",
    "img=cv2.cvtColor(img,cv2.COLOR_BGR2RGB)\n",
    "plt.imshow(img)\n",
    "plt.show()"
   ]
  },
  {
   "cell_type": "code",
   "execution_count": null,
   "metadata": {},
   "outputs": [],
   "source": [
    "dst = np.zeros((height,width,1), np.uint8)\n",
    "for i in range(0, height):\n",
    "    for j in range(0, width):\n",
    "        grayPixel = gray[i, j]\n",
    "        dst[i, j] = 255-grayPixel"
   ]
  },
  {
   "cell_type": "code",
   "execution_count": null,
   "metadata": {},
   "outputs": [],
   "source": [
    "cv2.imwrite(\"./_____.jpg\", dst)\n",
    "dst = cv2.imread('./_____.jpg', 1)\n",
    "\n",
    "plt.imshow(dst)\n",
    "plt.show()"
   ]
  },
  {
   "cell_type": "code",
   "execution_count": null,
   "metadata": {},
   "outputs": [],
   "source": [
    "height,width,deep"
   ]
  },
  {
   "cell_type": "code",
   "execution_count": null,
   "metadata": {},
   "outputs": [],
   "source": [
    "sum_height=np.sum(img,axis=0)\n",
    "sum_width=np.sum(img,axis=1)"
   ]
  },
  {
   "cell_type": "code",
   "execution_count": null,
   "metadata": {},
   "outputs": [],
   "source": [
    "sum_height,sum_width"
   ]
  },
  {
   "cell_type": "code",
   "execution_count": null,
   "metadata": {},
   "outputs": [],
   "source": [
    "k=10"
   ]
  },
  {
   "cell_type": "code",
   "execution_count": null,
   "metadata": {},
   "outputs": [],
   "source": [
    "result_1 = np.zeros((height, width, deep), np.uint8)\n",
    "for i in range(0,height):\n",
    "    for j in range(0,width):\n",
    "        print(i,j)\n",
    "        #(b, g, r) = img[i:, j]\n",
    "        #result_1[i,j]=(np.sum(b[i:]),g,r)"
   ]
  },
  {
   "cell_type": "code",
   "execution_count": null,
   "metadata": {},
   "outputs": [],
   "source": [
    "result=[]"
   ]
  },
  {
   "cell_type": "code",
   "execution_count": null,
   "metadata": {},
   "outputs": [],
   "source": [
    "result= np.sum()"
   ]
  },
  {
   "cell_type": "code",
   "execution_count": null,
   "metadata": {},
   "outputs": [],
   "source": [
    "(b,g,r) = cv2.split(img)"
   ]
  },
  {
   "cell_type": "code",
   "execution_count": null,
   "metadata": {},
   "outputs": [],
   "source": [
    "img=cv2.imread(\"_____.jpg\",1)\n",
    "img=cv2.cvtColor(img,cv2.COLOR_BGR2RGB)\n",
    "plt.imshow(img)\n",
    "plt.show()"
   ]
  },
  {
   "cell_type": "code",
   "execution_count": null,
   "metadata": {},
   "outputs": [],
   "source": [
    "def mean_filter(img,k_sizes):\n",
    "    height,width,deep=img.shape\n",
    "    output=np.zeros_like(img)\n",
    "    radius=k_sizes//2\n",
    "    for i in range(radius,height-radius):\n",
    "        for j in range(radius,width-radius):\n",
    "            average=np.mean(img[i-radius:i+radius+1,j-radius:j+radius+1])\n",
    "            output[i,j]=average\n",
    "    return output"
   ]
  },
  {
   "cell_type": "code",
   "execution_count": null,
   "metadata": {},
   "outputs": [],
   "source": [
    "img2=mean_filter(img,3)\n",
    "plt.imshow(img2)\n",
    "plt.show()"
   ]
  },
  {
   "cell_type": "code",
   "execution_count": null,
   "metadata": {},
   "outputs": [],
   "source": [
    "def mean_filter_rgb(img,k_sizes):\n",
    "    height,width,deep=img.shape\n",
    "    output=np.zeros_like(img)\n",
    "    radius=k_sizes//2\n",
    "    for i in range(radius,height-radius):\n",
    "        for j in range(radius,width-radius):\n",
    "            for c in range(deep):\n",
    "                average=np.mean(img[i-radius:i+radius+1,j-radius:j+radius+1,c])\n",
    "                output[i,j,c]=average\n",
    "    return output"
   ]
  },
  {
   "cell_type": "code",
   "execution_count": null,
   "metadata": {},
   "outputs": [],
   "source": [
    "img3=mean_filter_rgb(img,5)\n",
    "plt.imshow(img3)\n",
    "plt.show"
   ]
  },
  {
   "cell_type": "code",
   "execution_count": null,
   "metadata": {},
   "outputs": [],
   "source": [
    "img_gray=cv2.cvtColor(img,cv2.COLOR_BGR2GRAY)\n",
    "plt.imshow(img_gray,'gray')\n",
    "plt.show()"
   ]
  },
  {
   "cell_type": "code",
   "execution_count": null,
   "metadata": {},
   "outputs": [],
   "source": [
    "k_x=np.array(\n",
    "    [[-1,0,1],\n",
    "     [-2,0,2],\n",
    "     [-1,0,1]])\n",
    "k_y=np.array(\n",
    "    [[1,2,1],\n",
    "     [0,0,0],\n",
    "     [-1,-2,-1]])\n"
   ]
  },
  {
   "cell_type": "code",
   "execution_count": null,
   "metadata": {},
   "outputs": [],
   "source": [
    "window=img_gray[0:3,0:3]\n",
    "print(window)\n",
    "print(np.sum(window*k_x))"
   ]
  },
  {
   "cell_type": "code",
   "execution_count": null,
   "metadata": {},
   "outputs": [],
   "source": [
    "def Sobel_N(img,choose):\n",
    "    height,width=img.shape\n",
    "    #output=np.zeros_like(img) 错误原因\n",
    "    output=np.zeros((height,width))\n",
    "    \n",
    "    k_x=np.array(\n",
    "        [[-1,0,1],\n",
    "         [-2,0,2],\n",
    "         [-1,0,1]])\n",
    "    k_y=np.array(\n",
    "        [[1,2,1],\n",
    "         [0,0,0],\n",
    "         [-1,-2,-1]])\n",
    "    \n",
    "    img_add=np.pad(img,1,'constant')\n",
    "    img_add\n",
    "    for i in range(2,height+1):\n",
    "        for j in range(2,width+1):\n",
    "            window=img_add[i-1:i+2,j-1:j+2]\n",
    "            if choose==0:\n",
    "                output[i-1,j-1]=np.sum(window*k_x)\n",
    "            elif choose==1:\n",
    "                output[i-1,j-1]=np.sum(window*k_y)\n",
    "    return output"
   ]
  },
  {
   "cell_type": "code",
   "execution_count": null,
   "metadata": {},
   "outputs": [],
   "source": [
    "img4_x=Sobel_N(img_gray,0)\n",
    "img4_y=Sobel_N(img_gray,1)"
   ]
  },
  {
   "cell_type": "code",
   "execution_count": null,
   "metadata": {},
   "outputs": [],
   "source": [
    "img4_x=Sobel_N(img_gray,0)\n",
    "img4_y=Sobel_N(img_gray,1)\n",
    "img4_x=Sobel_N(img_gray,0)\n",
    "img4_y=Sobel_N(img_gray,1)\n",
    "absX = cv2.convertScaleAbs(img4_x)\n",
    "absY = cv2.convertScaleAbs(img4_y) \n",
    "img4 = cv2.addWeighted(absX, 0.5, absY, 0.5, 0)\n",
    "plt.imshow(img4,'gray')\n",
    "plt.show()\n"
   ]
  },
  {
   "cell_type": "code",
   "execution_count": null,
   "metadata": {},
   "outputs": [],
   "source": []
  },
  {
   "cell_type": "code",
   "execution_count": null,
   "metadata": {},
   "outputs": [],
   "source": []
  },
  {
   "cell_type": "code",
   "execution_count": null,
   "metadata": {},
   "outputs": [],
   "source": []
  },
  {
   "cell_type": "code",
   "execution_count": null,
   "metadata": {},
   "outputs": [],
   "source": []
  }
 ],
 "metadata": {
  "kernelspec": {
   "display_name": "Python 3",
   "language": "python",
   "name": "python3"
  },
  "language_info": {
   "codemirror_mode": {
    "name": "ipython",
    "version": 3
   },
   "file_extension": ".py",
   "mimetype": "text/x-python",
   "name": "python",
   "nbconvert_exporter": "python",
   "pygments_lexer": "ipython3",
   "version": "3.8.3"
  }
 },
 "nbformat": 4,
 "nbformat_minor": 4
}
